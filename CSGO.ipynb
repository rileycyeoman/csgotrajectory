{
 "cells": [
  {
   "cell_type": "code",
   "execution_count": 1,
   "id": "f51f3729-da22-4a42-b599-d828efe52dc4",
   "metadata": {},
   "outputs": [],
   "source": [
    "import awpy"
   ]
  },
  {
   "cell_type": "code",
   "execution_count": 2,
   "id": "124689ad-dde1-40ad-9a17-6fcda5f24a08",
   "metadata": {},
   "outputs": [],
   "source": [
    "#path = '/content/drive/MyDrive/data/lan/'\n",
    "path = '/Users/hemanth/Downloads/esta-main/data/lan/'"
   ]
  },
  {
   "cell_type": "code",
   "execution_count": 3,
   "id": "2cc51b56-1401-4705-a746-4ddcd3c4fbca",
   "metadata": {},
   "outputs": [],
   "source": [
    "import lzma\n",
    "import json\n",
    "\n",
    "# Function to read .xz archives from ESTA\n",
    "def read_parsed_demo(filename):\n",
    "  with lzma.LZMAFile(filename, \"rb\") as f:\n",
    "    d = json.load(f)\n",
    "    return d"
   ]
  },
  {
   "cell_type": "code",
   "execution_count": 6,
   "id": "9db89743-a61c-4650-86ef-f0a88d2586b0",
   "metadata": {},
   "outputs": [],
   "source": [
    "demoJson = read_parsed_demo(path + '0013db25-4444-452b-980b-7702dc6fb810.json.xz');"
   ]
  },
  {
   "cell_type": "code",
   "execution_count": 7,
   "id": "caec1fe5-4c9b-48fb-957f-1ad628698a4e",
   "metadata": {},
   "outputs": [
    {
     "data": {
      "text/plain": [
       "dict_keys(['clientName', 'mapName', 'tickRate', 'playbackTicks', 'playbackFramesCount', 'parsedToFrameIdx', 'parserParameters', 'serverVars', 'matchPhases', 'matchmakingRanks', 'playerConnections', 'gameRounds', 'matchId', 'demoId', 'competitionName', 'hltvUrl', 'matchDate', 'matchName'])"
      ]
     },
     "execution_count": 7,
     "metadata": {},
     "output_type": "execute_result"
    }
   ],
   "source": [
    "demoJson.keys()"
   ]
  },
  {
   "cell_type": "code",
   "execution_count": 16,
   "id": "af2a1682-4f45-4c9a-9aaf-fb47989c1026",
   "metadata": {},
   "outputs": [],
   "source": [
    "# Function to create a vector representation for a game state (also called a frame)\n",
    "def create_frame_row(frame, demoID, mapName, roundNum):\n",
    "\n",
    "  # Global info\n",
    "  frame_data = [demoID, mapName, roundNum, frame[\"seconds\"]]\n",
    "    \n",
    "  # Team specific info (CT)\n",
    "  for p in frame[\"ct\"][\"players\"]:\n",
    "    player_info = [p[\"isAlive\"], \n",
    "                  p[\"x\"],\n",
    "                  p[\"y\"],\n",
    "                  p[\"z\"],\n",
    "                  p[\"velocityX\"],\n",
    "                  p[\"velocityY\"],\n",
    "                  p[\"velocityZ\"],\n",
    "                  p[\"viewX\"],\n",
    "                  p[\"viewY\"]\n",
    "                  ]\n",
    "    frame_data.extend(player_info)\n",
    "  \n",
    "  for p in frame[\"t\"][\"players\"]:\n",
    "    player_info = [p[\"isAlive\"], \n",
    "                  p[\"x\"],\n",
    "                  p[\"y\"],\n",
    "                  p[\"z\"],\n",
    "                  p[\"velocityX\"],\n",
    "                  p[\"velocityY\"],\n",
    "                  p[\"velocityZ\"],\n",
    "                  p[\"viewX\"],\n",
    "                  p[\"viewY\"]\n",
    "                  ]\n",
    "    frame_data.extend(player_info)\n",
    "  \n",
    "  return frame_data\n",
    "    "
   ]
  },
  {
   "cell_type": "code",
   "execution_count": 17,
   "id": "fcbe0cfa-078c-4e95-b2ad-5fae63c1f4b3",
   "metadata": {},
   "outputs": [
    {
     "name": "stderr",
     "output_type": "stream",
     "text": [
      "\n",
      "00%|███████████████████████████████████████████████████████████████████████████████████████████████████████████████████████████████████████████████████████████████████| 680/680 [1:40:17<00:00,  8.85s/it]"
     ]
    }
   ],
   "source": [
    "import os\n",
    "import pandas as pd\n",
    "\n",
    "from tqdm import tqdm\n",
    "\n",
    "demo_files = os.listdir(path)\n",
    "demo_files = [path + f for f in demo_files] \n",
    "parsed_demos = []\n",
    "\n",
    "# You can change the list of maps here to only parse specific maps\n",
    "map_list = ['de_nuke', 'de_inferno', 'de_vertigo', 'de_dust2', 'de_mirage', 'de_overpass', 'de_ancient']\n",
    "\n",
    "for f in tqdm(demo_files):\n",
    "  demo = read_parsed_demo(f)\n",
    "\n",
    "  if demo[\"mapName\"] in map_list:\n",
    "    # parsed_demos[demo[\"mapName\"]][demo[\"demoId\"]] = {}\n",
    "    # parsed_demos[demo[\"mapName\"]][demo[\"demoId\"]][\"df\"] = []\n",
    "\n",
    "    parsed_frames_df = []\n",
    "\n",
    "    for r in demo[\"gameRounds\"]:\n",
    "      parsed_frames_df_round = []\n",
    "\n",
    "      ct_win = 1\n",
    "\n",
    "      # Only parse rounds where the round end reason is one of the following. These rounds are 99.9% of rounds in ESTA. \n",
    "      if r[\"roundEndReason\"] in [\"CTWin\", \"TargetSaved\", \"BombDefused\", \"TargetBombed\", \"TerroristsWin\"]:\n",
    "        if r[\"roundEndReason\"] not in [\"CTWin\", \"TargetSaved\", \"BombDefused\"]:\n",
    "          ct_win = 0\n",
    "        for fr in r[\"frames\"]:\n",
    "          # We use the following filters to ensure that we do not get frames after the round has ended\n",
    "          if (fr[\"ct\"][\"players\"] is not None) & (fr[\"t\"][\"players\"] is not None) & (fr[\"clockTime\"] != \"00:00\") & (fr[\"t\"][\"alivePlayers\"] >= 0) & (fr[\"ct\"][\"alivePlayers\"] >= 1):\n",
    "            if (len(fr[\"ct\"][\"players\"]) == 5) & (len(fr[\"t\"][\"players\"]) == 5):\n",
    "\n",
    "              # Create dataframe/tabular representation\n",
    "              frame_row = create_frame_row(fr, demo[\"demoId\"], demo[\"mapName\"], r[\"roundNum\"])\n",
    "              frame_row.append(ct_win)\n",
    "              \n",
    "              parsed_frames_df_round.append(frame_row)\n",
    "\n",
    "        if len(parsed_frames_df_round) > 0:\n",
    "          parsed_demos.extend(parsed_frames_df_round)"
   ]
  },
  {
   "cell_type": "code",
   "execution_count": 18,
   "id": "0c2e9087-daba-49ae-bf67-f4e518a79583",
   "metadata": {},
   "outputs": [],
   "source": [
    "import pandas as pd\n",
    "\n",
    "lan_frames_df = pd.DataFrame(parsed_demos)"
   ]
  },
  {
   "cell_type": "code",
   "execution_count": 15,
   "id": "da6097f3-e14f-4370-a342-63f297cb8d61",
   "metadata": {},
   "outputs": [
    {
     "data": {
      "text/plain": [
       "94\n",
       "0    2653\n",
       "1    2119\n",
       "Name: count, dtype: int64"
      ]
     },
     "execution_count": 15,
     "metadata": {},
     "output_type": "execute_result"
    }
   ],
   "source": [
    "lan_frames_df[94].value_counts()"
   ]
  },
  {
   "cell_type": "code",
   "execution_count": 19,
   "id": "902da9ff-6e84-49e4-ae66-fa275593bde4",
   "metadata": {},
   "outputs": [],
   "source": [
    "lan_frames_df.to_pickle('lan_frames_df.pkl')"
   ]
  },
  {
   "cell_type": "code",
   "execution_count": null,
   "id": "ca7c98ed-072b-4f59-944b-54877a3583b2",
   "metadata": {},
   "outputs": [],
   "source": [
    "#lan_frames_df = pd.read_pickle('lan_frames_df.pkl')"
   ]
  },
  {
   "cell_type": "code",
   "execution_count": 23,
   "id": "1c4e2e3f-0ea9-4856-b190-b12d0c2bbda7",
   "metadata": {},
   "outputs": [
    {
     "data": {
      "text/plain": [
       "(3338527, 95)"
      ]
     },
     "execution_count": 23,
     "metadata": {},
     "output_type": "execute_result"
    }
   ],
   "source": [
    "lan_frames_df.shape"
   ]
  },
  {
   "cell_type": "code",
   "execution_count": 20,
   "id": "a3ea759e-5102-4efc-be76-54599efe6cd2",
   "metadata": {},
   "outputs": [
    {
     "data": {
      "text/html": [
       "<div>\n",
       "<style scoped>\n",
       "    .dataframe tbody tr th:only-of-type {\n",
       "        vertical-align: middle;\n",
       "    }\n",
       "\n",
       "    .dataframe tbody tr th {\n",
       "        vertical-align: top;\n",
       "    }\n",
       "\n",
       "    .dataframe thead th {\n",
       "        text-align: right;\n",
       "    }\n",
       "</style>\n",
       "<table border=\"1\" class=\"dataframe\">\n",
       "  <thead>\n",
       "    <tr style=\"text-align: right;\">\n",
       "      <th></th>\n",
       "      <th>0</th>\n",
       "      <th>1</th>\n",
       "      <th>2</th>\n",
       "      <th>3</th>\n",
       "      <th>4</th>\n",
       "      <th>5</th>\n",
       "      <th>6</th>\n",
       "      <th>7</th>\n",
       "      <th>8</th>\n",
       "      <th>9</th>\n",
       "      <th>...</th>\n",
       "      <th>85</th>\n",
       "      <th>86</th>\n",
       "      <th>87</th>\n",
       "      <th>88</th>\n",
       "      <th>89</th>\n",
       "      <th>90</th>\n",
       "      <th>91</th>\n",
       "      <th>92</th>\n",
       "      <th>93</th>\n",
       "      <th>94</th>\n",
       "    </tr>\n",
       "  </thead>\n",
       "  <tbody>\n",
       "    <tr>\n",
       "      <th>0</th>\n",
       "      <td>cc25ba4e-66d1-46b0-99c6-b288986547ca</td>\n",
       "      <td>de_mirage</td>\n",
       "      <td>1</td>\n",
       "      <td>0.484375</td>\n",
       "      <td>True</td>\n",
       "      <td>-1699.797729</td>\n",
       "      <td>-1970.743164</td>\n",
       "      <td>-268.632446</td>\n",
       "      <td>29.026894</td>\n",
       "      <td>-227.075592</td>\n",
       "      <td>...</td>\n",
       "      <td>True</td>\n",
       "      <td>1350.458008</td>\n",
       "      <td>-89.996193</td>\n",
       "      <td>-167.968750</td>\n",
       "      <td>-136.127853</td>\n",
       "      <td>-178.551804</td>\n",
       "      <td>0.000000</td>\n",
       "      <td>255.481567</td>\n",
       "      <td>2.147827</td>\n",
       "      <td>0</td>\n",
       "    </tr>\n",
       "    <tr>\n",
       "      <th>1</th>\n",
       "      <td>cc25ba4e-66d1-46b0-99c6-b288986547ca</td>\n",
       "      <td>de_mirage</td>\n",
       "      <td>1</td>\n",
       "      <td>0.984375</td>\n",
       "      <td>True</td>\n",
       "      <td>-1778.514404</td>\n",
       "      <td>-1802.967896</td>\n",
       "      <td>-263.968750</td>\n",
       "      <td>220.579300</td>\n",
       "      <td>117.663780</td>\n",
       "      <td>...</td>\n",
       "      <td>True</td>\n",
       "      <td>1207.346436</td>\n",
       "      <td>-347.120575</td>\n",
       "      <td>-159.529190</td>\n",
       "      <td>57.878857</td>\n",
       "      <td>-243.207825</td>\n",
       "      <td>280.118378</td>\n",
       "      <td>288.956909</td>\n",
       "      <td>14.826050</td>\n",
       "      <td>0</td>\n",
       "    </tr>\n",
       "    <tr>\n",
       "      <th>2</th>\n",
       "      <td>cc25ba4e-66d1-46b0-99c6-b288986547ca</td>\n",
       "      <td>de_mirage</td>\n",
       "      <td>1</td>\n",
       "      <td>1.484375</td>\n",
       "      <td>True</td>\n",
       "      <td>-1605.518311</td>\n",
       "      <td>-2181.437256</td>\n",
       "      <td>-255.857178</td>\n",
       "      <td>198.653351</td>\n",
       "      <td>-151.778946</td>\n",
       "      <td>...</td>\n",
       "      <td>True</td>\n",
       "      <td>1165.320923</td>\n",
       "      <td>-535.673462</td>\n",
       "      <td>-192.924774</td>\n",
       "      <td>-44.098000</td>\n",
       "      <td>-246.080002</td>\n",
       "      <td>0.000000</td>\n",
       "      <td>259.804688</td>\n",
       "      <td>15.380859</td>\n",
       "      <td>0</td>\n",
       "    </tr>\n",
       "    <tr>\n",
       "      <th>3</th>\n",
       "      <td>cc25ba4e-66d1-46b0-99c6-b288986547ca</td>\n",
       "      <td>de_mirage</td>\n",
       "      <td>1</td>\n",
       "      <td>1.984375</td>\n",
       "      <td>True</td>\n",
       "      <td>-1597.993774</td>\n",
       "      <td>-1278.946289</td>\n",
       "      <td>-261.710175</td>\n",
       "      <td>-4.611290</td>\n",
       "      <td>249.957474</td>\n",
       "      <td>...</td>\n",
       "      <td>True</td>\n",
       "      <td>1357.354004</td>\n",
       "      <td>-662.884827</td>\n",
       "      <td>-167.968750</td>\n",
       "      <td>-11.778632</td>\n",
       "      <td>-249.722366</td>\n",
       "      <td>0.000000</td>\n",
       "      <td>266.967773</td>\n",
       "      <td>0.461426</td>\n",
       "      <td>0</td>\n",
       "    </tr>\n",
       "    <tr>\n",
       "      <th>4</th>\n",
       "      <td>cc25ba4e-66d1-46b0-99c6-b288986547ca</td>\n",
       "      <td>de_mirage</td>\n",
       "      <td>1</td>\n",
       "      <td>2.484375</td>\n",
       "      <td>True</td>\n",
       "      <td>-1570.984253</td>\n",
       "      <td>-1494.990601</td>\n",
       "      <td>-263.379761</td>\n",
       "      <td>24.567797</td>\n",
       "      <td>248.789871</td>\n",
       "      <td>...</td>\n",
       "      <td>True</td>\n",
       "      <td>1166.454346</td>\n",
       "      <td>-715.387939</td>\n",
       "      <td>-236.118439</td>\n",
       "      <td>-22.092203</td>\n",
       "      <td>-249.021957</td>\n",
       "      <td>0.000000</td>\n",
       "      <td>264.979248</td>\n",
       "      <td>11.700439</td>\n",
       "      <td>0</td>\n",
       "    </tr>\n",
       "  </tbody>\n",
       "</table>\n",
       "<p>5 rows × 95 columns</p>\n",
       "</div>"
      ],
      "text/plain": [
       "                                     0          1   2         3     4   \\\n",
       "0  cc25ba4e-66d1-46b0-99c6-b288986547ca  de_mirage   1  0.484375  True   \n",
       "1  cc25ba4e-66d1-46b0-99c6-b288986547ca  de_mirage   1  0.984375  True   \n",
       "2  cc25ba4e-66d1-46b0-99c6-b288986547ca  de_mirage   1  1.484375  True   \n",
       "3  cc25ba4e-66d1-46b0-99c6-b288986547ca  de_mirage   1  1.984375  True   \n",
       "4  cc25ba4e-66d1-46b0-99c6-b288986547ca  de_mirage   1  2.484375  True   \n",
       "\n",
       "            5            6           7           8           9   ...    85  \\\n",
       "0 -1699.797729 -1970.743164 -268.632446   29.026894 -227.075592  ...  True   \n",
       "1 -1778.514404 -1802.967896 -263.968750  220.579300  117.663780  ...  True   \n",
       "2 -1605.518311 -2181.437256 -255.857178  198.653351 -151.778946  ...  True   \n",
       "3 -1597.993774 -1278.946289 -261.710175   -4.611290  249.957474  ...  True   \n",
       "4 -1570.984253 -1494.990601 -263.379761   24.567797  248.789871  ...  True   \n",
       "\n",
       "            86          87          88          89          90          91  \\\n",
       "0  1350.458008  -89.996193 -167.968750 -136.127853 -178.551804    0.000000   \n",
       "1  1207.346436 -347.120575 -159.529190   57.878857 -243.207825  280.118378   \n",
       "2  1165.320923 -535.673462 -192.924774  -44.098000 -246.080002    0.000000   \n",
       "3  1357.354004 -662.884827 -167.968750  -11.778632 -249.722366    0.000000   \n",
       "4  1166.454346 -715.387939 -236.118439  -22.092203 -249.021957    0.000000   \n",
       "\n",
       "           92         93  94  \n",
       "0  255.481567   2.147827   0  \n",
       "1  288.956909  14.826050   0  \n",
       "2  259.804688  15.380859   0  \n",
       "3  266.967773   0.461426   0  \n",
       "4  264.979248  11.700439   0  \n",
       "\n",
       "[5 rows x 95 columns]"
      ]
     },
     "execution_count": 20,
     "metadata": {},
     "output_type": "execute_result"
    }
   ],
   "source": [
    "lan_frames_df.head()"
   ]
  },
  {
   "cell_type": "code",
   "execution_count": 25,
   "id": "d1a47d07-6eee-4710-8847-dd64d17266b8",
   "metadata": {},
   "outputs": [],
   "source": [
    "test = lan_frames_df[lan_frames_df[0]=='cc25ba4e-66d1-46b0-99c6-b288986547ca']"
   ]
  },
  {
   "cell_type": "code",
   "execution_count": 28,
   "id": "1494620b-c15b-4c14-a5e2-57518973a91b",
   "metadata": {},
   "outputs": [],
   "source": [
    "test = test[test[2]==1]"
   ]
  },
  {
   "cell_type": "code",
   "execution_count": 29,
   "id": "3c5570f7-0baa-4b88-8da4-507ed41ef3d1",
   "metadata": {},
   "outputs": [
    {
     "data": {
      "text/plain": [
       "(141, 95)"
      ]
     },
     "execution_count": 29,
     "metadata": {},
     "output_type": "execute_result"
    }
   ],
   "source": [
    "test.shape"
   ]
  },
  {
   "cell_type": "code",
   "execution_count": 27,
   "id": "06665663-e874-49f8-9fd6-77edddd11d77",
   "metadata": {},
   "outputs": [
    {
     "data": {
      "text/plain": [
       "array([ 1,  2,  3,  4,  5,  6,  7,  8,  9, 10, 11, 12, 13, 14, 15, 16, 17,\n",
       "       18, 19, 20, 21, 22, 23, 24, 25, 26, 27, 28, 29])"
      ]
     },
     "execution_count": 27,
     "metadata": {},
     "output_type": "execute_result"
    }
   ],
   "source": [
    "test[2].unique()"
   ]
  }
 ],
 "metadata": {
  "kernelspec": {
   "display_name": "Python 3 (ipykernel)",
   "language": "python",
   "name": "python3"
  },
  "language_info": {
   "codemirror_mode": {
    "name": "ipython",
    "version": 3
   },
   "file_extension": ".py",
   "mimetype": "text/x-python",
   "name": "python",
   "nbconvert_exporter": "python",
   "pygments_lexer": "ipython3",
   "version": "3.9.6"
  }
 },
 "nbformat": 4,
 "nbformat_minor": 5
}
